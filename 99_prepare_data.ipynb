{
 "cells": [
  {
   "cell_type": "code",
   "execution_count": 1,
   "metadata": {},
   "outputs": [
    {
     "name": "stdout",
     "output_type": "stream",
     "text": [
      "Requirement already satisfied: h5py in /home/luke/anaconda3/lib/python3.6/site-packages (2.7.1)\n",
      "Requirement already satisfied: numpy>=1.7 in /home/luke/anaconda3/lib/python3.6/site-packages (from h5py) (1.16.2)\n",
      "Requirement already satisfied: six in /home/luke/.local/lib/python3.6/site-packages (from h5py) (1.11.0)\n",
      "Requirement already satisfied: googledrivedownloader in /home/luke/anaconda3/lib/python3.6/site-packages (0.3)\n",
      "^C\n",
      "Requirement already satisfied: imageio in /home/luke/anaconda3/lib/python3.6/site-packages (2.3.0)\n"
     ]
    }
   ],
   "source": [
    "!pip install h5py\n",
    "!pip install googledrivedownloader\n",
    "!pip install imageio"
   ]
  },
  {
   "cell_type": "code",
   "execution_count": 14,
   "metadata": {},
   "outputs": [],
   "source": [
    "from path import Path\n",
    "import h5py\n",
    "import imageio\n",
    "import os\n",
    "import random"
   ]
  },
  {
   "cell_type": "code",
   "execution_count": 15,
   "metadata": {},
   "outputs": [],
   "source": [
    "from google_drive_downloader import GoogleDriveDownloader as gdd"
   ]
  },
  {
   "cell_type": "markdown",
   "metadata": {},
   "source": [
    "## Download the data"
   ]
  },
  {
   "cell_type": "code",
   "execution_count": 21,
   "metadata": {},
   "outputs": [
    {
     "name": "stdout",
     "output_type": "stream",
     "text": [
      "gzip: ./histology/x.h5.gz: No such file or directory\n",
      "gzip: ./histology/y.h5.gz: No such file or directory\n"
     ]
    }
   ],
   "source": [
    "DATASET = \"partial\"\n",
    "\n",
    "if DATASET == \"full\":\n",
    "    print(\"the full dataset is 6.0G, this download may take a while...\")\n",
    "    images_download_id = \"1Ka0XfEMiwgCYPdTI-vv6eUElOBnKFKQ2\"\n",
    "    lagels_download_id = \"1269yhu3pZDP8UYFQs-NYs3FPwuK-nGSG\"\n",
    "elif DATASET == \"partial\":\n",
    "    images_download_id = \"1hgshYGWK8V-eGRy8LToWJJgDU_rXWVJ3\"\n",
    "    lagels_download_id = \"1bH8ZRbhSVAhScTS0p9-ZzGnX91cHT3uO\"\n",
    "    \n",
    "path = Path(\"./histology\")\n",
    "x_h5_gz = path/\"x.h5.gz\"\n",
    "y_h5_gz = path/\"y.h5.gz\"\n",
    "    \n",
    "# download the images\n",
    "gdd.download_file_from_google_drive(file_id=images_download_id,\n",
    "                                    dest_path=x_h5_gz, \n",
    "                                    overwrite=True)\n",
    "# download the labels\n",
    "gdd.download_file_from_google_drive(file_id=lagels_download_id,\n",
    "                                    dest_path=y_h5_gz,\n",
    "                                    overwrite=True)\n",
    "# uncompress the images\n",
    "!gunzip {x_h5_gz}\n",
    "# uncompress the labels\n",
    "!gunzip {y_h5_gz}"
   ]
  },
  {
   "cell_type": "markdown",
   "metadata": {},
   "source": [
    "## Extract the images"
   ]
  },
  {
   "cell_type": "code",
   "execution_count": 16,
   "metadata": {},
   "outputs": [
    {
     "ename": "TypeError",
     "evalue": "zip argument #1 must support iteration",
     "output_type": "error",
     "traceback": [
      "\u001b[0;31m---------------------------------------------------------------------------\u001b[0m",
      "\u001b[0;31mTypeError\u001b[0m                                 Traceback (most recent call last)",
      "\u001b[0;32m<ipython-input-16-1203300e9d16>\u001b[0m in \u001b[0;36m<module>\u001b[0;34m()\u001b[0m\n\u001b[1;32m     14\u001b[0m \u001b[0mcounter_tumour\u001b[0m \u001b[0;34m=\u001b[0m \u001b[0;36m0\u001b[0m\u001b[0;34m\u001b[0m\u001b[0m\n\u001b[1;32m     15\u001b[0m \u001b[0mcounter_normal\u001b[0m \u001b[0;34m=\u001b[0m \u001b[0;36m0\u001b[0m\u001b[0;34m\u001b[0m\u001b[0m\n\u001b[0;32m---> 16\u001b[0;31m \u001b[0;32mfor\u001b[0m \u001b[0mx\u001b[0m\u001b[0;34m,\u001b[0m \u001b[0my\u001b[0m \u001b[0;32min\u001b[0m \u001b[0mzip\u001b[0m\u001b[0;34m(\u001b[0m\u001b[0mh5_file_x\u001b[0m\u001b[0;34m,\u001b[0m \u001b[0mh5_file_y\u001b[0m\u001b[0;34m)\u001b[0m\u001b[0;34m:\u001b[0m\u001b[0;34m\u001b[0m\u001b[0m\n\u001b[0m\u001b[1;32m     17\u001b[0m     \u001b[0;32mif\u001b[0m \u001b[0mint\u001b[0m\u001b[0;34m(\u001b[0m\u001b[0my\u001b[0m\u001b[0;34m[\u001b[0m\u001b[0;36m0\u001b[0m\u001b[0;34m,\u001b[0m\u001b[0;36m0\u001b[0m\u001b[0;34m,\u001b[0m\u001b[0;36m0\u001b[0m\u001b[0;34m]\u001b[0m\u001b[0;34m)\u001b[0m\u001b[0;34m:\u001b[0m\u001b[0;34m\u001b[0m\u001b[0m\n\u001b[1;32m     18\u001b[0m         \u001b[0mimageio\u001b[0m\u001b[0;34m.\u001b[0m\u001b[0mimsave\u001b[0m\u001b[0;34m(\u001b[0m\u001b[0mtumour_path\u001b[0m\u001b[0;34m/\u001b[0m\u001b[0mstr\u001b[0m\u001b[0;34m(\u001b[0m\u001b[0mcounter_tumour\u001b[0m\u001b[0;34m)\u001b[0m \u001b[0;34m+\u001b[0m \u001b[0;34m\".png\"\u001b[0m\u001b[0;34m,\u001b[0m \u001b[0mx\u001b[0m\u001b[0;34m)\u001b[0m\u001b[0;34m\u001b[0m\u001b[0m\n",
      "\u001b[0;31mTypeError\u001b[0m: zip argument #1 must support iteration"
     ]
    }
   ],
   "source": [
    "path=Path(\"./histology\")\n",
    "\n",
    "h5_file_x = h5py.File(path/\"x.h5\").get('x')\n",
    "h5_file_y = h5py.File(path/\"y.h5\").get('y')\n",
    "\n",
    "tumour_path = path/\"data/tumour\"\n",
    "normal_path = path/\"data/normal\"\n",
    "\n",
    "os.makedirs(normal_path, exist_ok=True)\n",
    "os.makedirs(tumour_path, exist_ok=True)\n",
    "\n",
    "images_to_extract = 20000\n",
    "\n",
    "counter_tumour = 0\n",
    "counter_normal = 0\n",
    "for x, y in zip(h5_file_x, h5_file_y):\n",
    "    if int(y[0,0,0]):\n",
    "        imageio.imsave(tumour_path/str(counter_tumour) + \".png\", x)\n",
    "        counter_tumour += 1\n",
    "    else:\n",
    "        imageio.imsave(normal_path/str(counter_normal) + \".png\", x)\n",
    "        counter_normal += 1\n",
    "    if counter_normal + counter_tumour == images_to_extract:\n",
    "        break"
   ]
  },
  {
   "cell_type": "code",
   "execution_count": null,
   "metadata": {},
   "outputs": [],
   "source": []
  }
 ],
 "metadata": {
  "kernelspec": {
   "display_name": "Python 3",
   "language": "python",
   "name": "python3"
  },
  "language_info": {
   "codemirror_mode": {
    "name": "ipython",
    "version": 3
   },
   "file_extension": ".py",
   "mimetype": "text/x-python",
   "name": "python",
   "nbconvert_exporter": "python",
   "pygments_lexer": "ipython3",
   "version": "3.6.5"
  }
 },
 "nbformat": 4,
 "nbformat_minor": 2
}
